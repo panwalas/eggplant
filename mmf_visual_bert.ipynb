{
  "nbformat": 4,
  "nbformat_minor": 0,
  "metadata": {
    "colab": {
      "name": "mmf visual bert",
      "provenance": []
    },
    "kernelspec": {
      "name": "python3",
      "display_name": "Python 3"
    },
    "accelerator": "GPU"
  },
  "cells": [
    {
      "cell_type": "code",
      "metadata": {
        "id": "fJV3HEPwmzwh",
        "outputId": "661654f8-2196-4b85-e3c5-de7b4c5dc8bd",
        "colab": {
          "base_uri": "https://localhost:8080/",
          "height": 134
        }
      },
      "source": [
        "!git clone https://github.com/facebookresearch/mmf.git"
      ],
      "execution_count": null,
      "outputs": [
        {
          "output_type": "stream",
          "text": [
            "Cloning into 'mmf'...\n",
            "remote: Enumerating objects: 163, done.\u001b[K\n",
            "remote: Counting objects:   0% (1/163)\u001b[K\rremote: Counting objects:   1% (2/163)\u001b[K\rremote: Counting objects:   2% (4/163)\u001b[K\rremote: Counting objects:   3% (5/163)\u001b[K\rremote: Counting objects:   4% (7/163)\u001b[K\rremote: Counting objects:   5% (9/163)\u001b[K\rremote: Counting objects:   6% (10/163)\u001b[K\rremote: Counting objects:   7% (12/163)\u001b[K\rremote: Counting objects:   8% (14/163)\u001b[K\rremote: Counting objects:   9% (15/163)\u001b[K\rremote: Counting objects:  10% (17/163)\u001b[K\rremote: Counting objects:  11% (18/163)\u001b[K\rremote: Counting objects:  12% (20/163)\u001b[K\rremote: Counting objects:  13% (22/163)\u001b[K\rremote: Counting objects:  14% (23/163)\u001b[K\rremote: Counting objects:  15% (25/163)\u001b[K\rremote: Counting objects:  16% (27/163)\u001b[K\rremote: Counting objects:  17% (28/163)\u001b[K\rremote: Counting objects:  18% (30/163)\u001b[K\rremote: Counting objects:  19% (31/163)\u001b[K\rremote: Counting objects:  20% (33/163)\u001b[K\rremote: Counting objects:  21% (35/163)\u001b[K\rremote: Counting objects:  22% (36/163)\u001b[K\rremote: Counting objects:  23% (38/163)\u001b[K\rremote: Counting objects:  24% (40/163)\u001b[K\rremote: Counting objects:  25% (41/163)\u001b[K\rremote: Counting objects:  26% (43/163)\u001b[K\rremote: Counting objects:  27% (45/163)\u001b[K\rremote: Counting objects:  28% (46/163)\u001b[K\rremote: Counting objects:  29% (48/163)\u001b[K\rremote: Counting objects:  30% (49/163)\u001b[K\rremote: Counting objects:  31% (51/163)\u001b[K\rremote: Counting objects:  32% (53/163)\u001b[K\rremote: Counting objects:  33% (54/163)\u001b[K\rremote: Counting objects:  34% (56/163)\u001b[K\rremote: Counting objects:  35% (58/163)\u001b[K\rremote: Counting objects:  36% (59/163)\u001b[K\rremote: Counting objects:  37% (61/163)\u001b[K\rremote: Counting objects:  38% (62/163)\u001b[K\rremote: Counting objects:  39% (64/163)\u001b[K\rremote: Counting objects:  40% (66/163)\u001b[K\rremote: Counting objects:  41% (67/163)\u001b[K\rremote: Counting objects:  42% (69/163)\u001b[K\rremote: Counting objects:  43% (71/163)\u001b[K\rremote: Counting objects:  44% (72/163)\u001b[K\rremote: Counting objects:  45% (74/163)\u001b[K\rremote: Counting objects:  46% (75/163)\u001b[K\rremote: Counting objects:  47% (77/163)\u001b[K\rremote: Counting objects:  48% (79/163)\u001b[K\rremote: Counting objects:  49% (80/163)\u001b[K\rremote: Counting objects:  50% (82/163)\u001b[K\rremote: Counting objects:  51% (84/163)\u001b[K\rremote: Counting objects:  52% (85/163)\u001b[K\rremote: Counting objects:  53% (87/163)\u001b[K\rremote: Counting objects:  54% (89/163)\u001b[K\rremote: Counting objects:  55% (90/163)\u001b[K\rremote: Counting objects:  56% (92/163)\u001b[K\rremote: Counting objects:  57% (93/163)\u001b[K\rremote: Counting objects:  58% (95/163)\u001b[K\rremote: Counting objects:  59% (97/163)\u001b[K\rremote: Counting objects:  60% (98/163)\u001b[K\rremote: Counting objects:  61% (100/163)\u001b[K\rremote: Counting objects:  62% (102/163)\u001b[K\rremote: Counting objects:  63% (103/163)\u001b[K\rremote: Counting objects:  64% (105/163)\u001b[K\rremote: Counting objects:  65% (106/163)\u001b[K\rremote: Counting objects:  66% (108/163)\u001b[K\rremote: Counting objects:  67% (110/163)\u001b[K\rremote: Counting objects:  68% (111/163)\u001b[K\rremote: Counting objects:  69% (113/163)\u001b[K\rremote: Counting objects:  70% (115/163)\u001b[K\rremote: Counting objects:  71% (116/163)\u001b[K\rremote: Counting objects:  72% (118/163)\u001b[K\rremote: Counting objects:  73% (119/163)\u001b[K\rremote: Counting objects:  74% (121/163)\u001b[K\rremote: Counting objects:  75% (123/163)\u001b[K\rremote: Counting objects:  76% (124/163)\u001b[K\rremote: Counting objects:  77% (126/163)\u001b[K\rremote: Counting objects:  78% (128/163)\u001b[K\rremote: Counting objects:  79% (129/163)\u001b[K\rremote: Counting objects:  80% (131/163)\u001b[K\rremote: Counting objects:  81% (133/163)\u001b[K\rremote: Counting objects:  82% (134/163)\u001b[K\rremote: Counting objects:  83% (136/163)\u001b[K\rremote: Counting objects:  84% (137/163)\u001b[K\rremote: Counting objects:  85% (139/163)\u001b[K\rremote: Counting objects:  86% (141/163)\u001b[K\rremote: Counting objects:  87% (142/163)\u001b[K\rremote: Counting objects:  88% (144/163)\u001b[K\rremote: Counting objects:  89% (146/163)\u001b[K\rremote: Counting objects:  90% (147/163)\u001b[K\rremote: Counting objects:  91% (149/163)\u001b[K\rremote: Counting objects:  92% (150/163)\u001b[K\rremote: Counting objects:  93% (152/163)\u001b[K\rremote: Counting objects:  94% (154/163)\u001b[K\rremote: Counting objects:  95% (155/163)\u001b[K\rremote: Counting objects:  96% (157/163)\u001b[K\rremote: Counting objects:  97% (159/163)\u001b[K\rremote: Counting objects:  98% (160/163)\u001b[K\rremote: Counting objects:  99% (162/163)\u001b[K\rremote: Counting objects: 100% (163/163)\u001b[K\rremote: Counting objects: 100% (163/163), done.\u001b[K\n",
            "remote: Compressing objects: 100% (123/123), done.\u001b[K\n",
            "remote: Total 11423 (delta 43), reused 91 (delta 14), pack-reused 11260\u001b[K\n",
            "Receiving objects: 100% (11423/11423), 11.45 MiB | 20.04 MiB/s, done.\n",
            "Resolving deltas: 100% (7118/7118), done.\n"
          ],
          "name": "stdout"
        }
      ]
    },
    {
      "cell_type": "code",
      "metadata": {
        "id": "cxxrHmzKoiCO",
        "outputId": "95e59d49-bd76-4ec6-af3f-71cd8c91707f",
        "colab": {
          "base_uri": "https://localhost:8080/",
          "height": 1000
        }
      },
      "source": [
        "!pip install --upgrade --pre mmf"
      ],
      "execution_count": null,
      "outputs": [
        {
          "output_type": "stream",
          "text": [
            "Collecting mmf\n",
            "\u001b[?25l  Downloading https://files.pythonhosted.org/packages/20/b3/bd524f9e501a18d46d704b538f4bfbdd247d614a9cd4736c862c34d29d5c/mmf-1.0.0rc10-cp36-cp36m-manylinux1_x86_64.whl (393kB)\n",
            "\u001b[K     |████████████████████████████████| 399kB 2.8MB/s \n",
            "\u001b[?25hCollecting tqdm>=4.43.0\n",
            "\u001b[?25l  Downloading https://files.pythonhosted.org/packages/46/62/7663894f67ac5a41a0d8812d78d9d2a9404124051885af9d77dc526fb399/tqdm-4.47.0-py2.py3-none-any.whl (66kB)\n",
            "\u001b[K     |████████████████████████████████| 71kB 6.4MB/s \n",
            "\u001b[?25hCollecting torchtext==0.5.0\n",
            "\u001b[?25l  Downloading https://files.pythonhosted.org/packages/79/ef/54b8da26f37787f5c670ae2199329e7dccf195c060b25628d99e587dac51/torchtext-0.5.0-py3-none-any.whl (73kB)\n",
            "\u001b[K     |████████████████████████████████| 81kB 6.6MB/s \n",
            "\u001b[?25hRequirement already satisfied, skipping upgrade: requests==2.23.0 in /usr/local/lib/python3.6/dist-packages (from mmf) (2.23.0)\n",
            "Requirement already satisfied, skipping upgrade: sklearn==0.0 in /usr/local/lib/python3.6/dist-packages (from mmf) (0.0)\n",
            "Requirement already satisfied, skipping upgrade: numpy>=1.16.6 in /usr/local/lib/python3.6/dist-packages (from mmf) (1.18.5)\n",
            "Collecting nltk==3.4.5\n",
            "\u001b[?25l  Downloading https://files.pythonhosted.org/packages/f6/1d/d925cfb4f324ede997f6d47bea4d9babba51b49e87a767c170b77005889d/nltk-3.4.5.zip (1.5MB)\n",
            "\u001b[K     |████████████████████████████████| 1.5MB 12.6MB/s \n",
            "\u001b[?25hCollecting torchvision==0.6.0\n",
            "\u001b[?25l  Downloading https://files.pythonhosted.org/packages/61/51/aa2770a70f612ce9a2fc7da3a1a93f9ecf8746788256fed6b691f9b31ca9/torchvision-0.6.0-cp36-cp36m-manylinux1_x86_64.whl (6.6MB)\n",
            "\u001b[K     |████████████████████████████████| 6.6MB 10.1MB/s \n",
            "\u001b[33mWARNING: The candidate selected for download or install is a yanked version: 'omegaconf' candidate (version 2.0.1rc4 at https://files.pythonhosted.org/packages/03/c6/dec84d1b2a3d645f03201dca03bc879b6116cb6503449a31d7ff9c1394a4/omegaconf-2.0.1rc4-py3-none-any.whl#sha256=e04462f7e3d8f51532221471b241f67e35a36a04e364c70987018faadd273cc0 (from https://pypi.org/simple/omegaconf/) (requires-python:>=3.6))\n",
            "Reason for being yanked: <none given>\u001b[0m\n",
            "\u001b[?25hCollecting omegaconf==2.0.1rc4\n",
            "  Downloading https://files.pythonhosted.org/packages/03/c6/dec84d1b2a3d645f03201dca03bc879b6116cb6503449a31d7ff9c1394a4/omegaconf-2.0.1rc4-py3-none-any.whl\n",
            "Collecting torch==1.5.0\n",
            "\u001b[?25l  Downloading https://files.pythonhosted.org/packages/13/70/54e9fb010fe1547bc4774716f11ececb81ae5b306c05f090f4461ee13205/torch-1.5.0-cp36-cp36m-manylinux1_x86_64.whl (752.0MB)\n",
            "\u001b[K     |████████████████████████████████| 752.0MB 25kB/s \n",
            "\u001b[33mWARNING: Retrying (Retry(total=4, connect=None, read=None, redirect=None, status=None)) after connection broken by 'ProtocolError('Connection aborted.', ConnectionResetError(104, 'Connection reset by peer'))': /simple/fasttext/\u001b[0m\n",
            "\u001b[?25hCollecting fasttext==0.9.1\n",
            "\u001b[33m  WARNING: Retrying (Retry(total=4, connect=None, read=None, redirect=None, status=None)) after connection broken by 'ProtocolError('Connection aborted.', ConnectionResetError(104, 'Connection reset by peer'))': /packages/10/61/2e01f1397ec533756c1d893c22d9d5ed3fce3a6e4af1976e0d86bb13ea97/fasttext-0.9.1.tar.gz\u001b[0m\n",
            "\u001b[?25l  Downloading https://files.pythonhosted.org/packages/10/61/2e01f1397ec533756c1d893c22d9d5ed3fce3a6e4af1976e0d86bb13ea97/fasttext-0.9.1.tar.gz (57kB)\n",
            "\u001b[K     |████████████████████████████████| 61kB 1.8MB/s \n",
            "\u001b[?25hCollecting GitPython==3.1.0\n",
            "\u001b[?25l  Downloading https://files.pythonhosted.org/packages/d3/2f/6a366d56c9b1355b0880be9ea66b166cb3536392638d8d91413ec66305ad/GitPython-3.1.0-py3-none-any.whl (450kB)\n",
            "\u001b[K     |████████████████████████████████| 460kB 7.4MB/s \n",
            "\u001b[?25hCollecting transformers==2.3.0\n",
            "\u001b[?25l  Downloading https://files.pythonhosted.org/packages/50/10/aeefced99c8a59d828a92cc11d213e2743212d3641c87c82d61b035a7d5c/transformers-2.3.0-py3-none-any.whl (447kB)\n",
            "\u001b[K     |████████████████████████████████| 450kB 30.6MB/s \n",
            "\u001b[?25hRequirement already satisfied, skipping upgrade: lmdb==0.98 in /usr/local/lib/python3.6/dist-packages (from mmf) (0.98)\n",
            "Requirement already satisfied, skipping upgrade: editdistance==0.5.3 in /usr/local/lib/python3.6/dist-packages (from mmf) (0.5.3)\n",
            "Collecting demjson==2.2.4\n",
            "\u001b[?25l  Downloading https://files.pythonhosted.org/packages/96/67/6db789e2533158963d4af689f961b644ddd9200615b8ce92d6cad695c65a/demjson-2.2.4.tar.gz (131kB)\n",
            "\u001b[K     |████████████████████████████████| 133kB 37.3MB/s \n",
            "\u001b[?25hRequirement already satisfied, skipping upgrade: six in /usr/local/lib/python3.6/dist-packages (from torchtext==0.5.0->mmf) (1.12.0)\n",
            "Collecting sentencepiece\n",
            "\u001b[?25l  Downloading https://files.pythonhosted.org/packages/d4/a4/d0a884c4300004a78cca907a6ff9a5e9fe4f090f5d95ab341c53d28cbc58/sentencepiece-0.1.91-cp36-cp36m-manylinux1_x86_64.whl (1.1MB)\n",
            "\u001b[K     |████████████████████████████████| 1.1MB 30.6MB/s \n",
            "\u001b[?25hRequirement already satisfied, skipping upgrade: urllib3!=1.25.0,!=1.25.1,<1.26,>=1.21.1 in /usr/local/lib/python3.6/dist-packages (from requests==2.23.0->mmf) (1.24.3)\n",
            "Requirement already satisfied, skipping upgrade: chardet<4,>=3.0.2 in /usr/local/lib/python3.6/dist-packages (from requests==2.23.0->mmf) (3.0.4)\n",
            "Requirement already satisfied, skipping upgrade: idna<3,>=2.5 in /usr/local/lib/python3.6/dist-packages (from requests==2.23.0->mmf) (2.9)\n",
            "Requirement already satisfied, skipping upgrade: certifi>=2017.4.17 in /usr/local/lib/python3.6/dist-packages (from requests==2.23.0->mmf) (2020.6.20)\n",
            "Requirement already satisfied, skipping upgrade: scikit-learn in /usr/local/lib/python3.6/dist-packages (from sklearn==0.0->mmf) (0.22.2.post1)\n",
            "Requirement already satisfied, skipping upgrade: pillow>=4.1.1 in /usr/local/lib/python3.6/dist-packages (from torchvision==0.6.0->mmf) (7.0.0)\n",
            "Requirement already satisfied, skipping upgrade: dataclasses; python_version == \"3.6\" in /usr/local/lib/python3.6/dist-packages (from omegaconf==2.0.1rc4->mmf) (0.7)\n",
            "Collecting PyYAML>=5.1.*\n",
            "\u001b[?25l  Downloading https://files.pythonhosted.org/packages/64/c2/b80047c7ac2478f9501676c988a5411ed5572f35d1beff9cae07d321512c/PyYAML-5.3.1.tar.gz (269kB)\n",
            "\u001b[K     |████████████████████████████████| 276kB 19.8MB/s \n",
            "\u001b[?25hRequirement already satisfied, skipping upgrade: typing-extensions in /usr/local/lib/python3.6/dist-packages (from omegaconf==2.0.1rc4->mmf) (3.6.6)\n",
            "Requirement already satisfied, skipping upgrade: future in /usr/local/lib/python3.6/dist-packages (from torch==1.5.0->mmf) (0.16.0)\n",
            "Requirement already satisfied, skipping upgrade: pybind11>=2.2 in /usr/local/lib/python3.6/dist-packages (from fasttext==0.9.1->mmf) (2.5.0)\n",
            "Requirement already satisfied, skipping upgrade: setuptools>=0.7.0 in /usr/local/lib/python3.6/dist-packages (from fasttext==0.9.1->mmf) (47.3.1)\n",
            "Collecting gitdb<5,>=4.0.1\n",
            "\u001b[?25l  Downloading https://files.pythonhosted.org/packages/48/11/d1800bca0a3bae820b84b7d813ad1eff15a48a64caea9c823fc8c1b119e8/gitdb-4.0.5-py3-none-any.whl (63kB)\n",
            "\u001b[K     |████████████████████████████████| 71kB 7.6MB/s \n",
            "\u001b[?25hCollecting sacremoses\n",
            "\u001b[?25l  Downloading https://files.pythonhosted.org/packages/7d/34/09d19aff26edcc8eb2a01bed8e98f13a1537005d31e95233fd48216eed10/sacremoses-0.0.43.tar.gz (883kB)\n",
            "\u001b[K     |████████████████████████████████| 890kB 29.6MB/s \n",
            "\u001b[?25hRequirement already satisfied, skipping upgrade: boto3 in /usr/local/lib/python3.6/dist-packages (from transformers==2.3.0->mmf) (1.14.9)\n",
            "Requirement already satisfied, skipping upgrade: regex!=2019.12.17 in /usr/local/lib/python3.6/dist-packages (from transformers==2.3.0->mmf) (2019.12.20)\n",
            "Requirement already satisfied, skipping upgrade: joblib>=0.11 in /usr/local/lib/python3.6/dist-packages (from scikit-learn->sklearn==0.0->mmf) (0.15.1)\n",
            "Requirement already satisfied, skipping upgrade: scipy>=0.17.0 in /usr/local/lib/python3.6/dist-packages (from scikit-learn->sklearn==0.0->mmf) (1.4.1)\n",
            "Collecting smmap<4,>=3.0.1\n",
            "  Downloading https://files.pythonhosted.org/packages/b0/9a/4d409a6234eb940e6a78dfdfc66156e7522262f5f2fecca07dc55915952d/smmap-3.0.4-py2.py3-none-any.whl\n",
            "Requirement already satisfied, skipping upgrade: click in /usr/local/lib/python3.6/dist-packages (from sacremoses->transformers==2.3.0->mmf) (7.1.2)\n",
            "Requirement already satisfied, skipping upgrade: botocore<1.18.0,>=1.17.9 in /usr/local/lib/python3.6/dist-packages (from boto3->transformers==2.3.0->mmf) (1.17.9)\n",
            "Requirement already satisfied, skipping upgrade: s3transfer<0.4.0,>=0.3.0 in /usr/local/lib/python3.6/dist-packages (from boto3->transformers==2.3.0->mmf) (0.3.3)\n",
            "Requirement already satisfied, skipping upgrade: jmespath<1.0.0,>=0.7.1 in /usr/local/lib/python3.6/dist-packages (from boto3->transformers==2.3.0->mmf) (0.10.0)\n",
            "Requirement already satisfied, skipping upgrade: python-dateutil<3.0.0,>=2.1 in /usr/local/lib/python3.6/dist-packages (from botocore<1.18.0,>=1.17.9->boto3->transformers==2.3.0->mmf) (2.8.1)\n",
            "Requirement already satisfied, skipping upgrade: docutils<0.16,>=0.10 in /usr/local/lib/python3.6/dist-packages (from botocore<1.18.0,>=1.17.9->boto3->transformers==2.3.0->mmf) (0.15.2)\n",
            "Building wheels for collected packages: nltk, fasttext, demjson, PyYAML, sacremoses\n",
            "  Building wheel for nltk (setup.py) ... \u001b[?25l\u001b[?25hdone\n",
            "  Created wheel for nltk: filename=nltk-3.4.5-cp36-none-any.whl size=1449906 sha256=932c35d2e24dd7319ae367ee54aa3025295ab9fba60d942035908fa7a8bdade6\n",
            "  Stored in directory: /root/.cache/pip/wheels/96/86/f6/68ab24c23f207c0077381a5e3904b2815136b879538a24b483\n",
            "  Building wheel for fasttext (setup.py) ... \u001b[?25l\u001b[?25hdone\n",
            "  Created wheel for fasttext: filename=fasttext-0.9.1-cp36-cp36m-linux_x86_64.whl size=2388786 sha256=f76b934b30b24069f336a23b689805323037e990c71ac326c1e015c7512ee3d9\n",
            "  Stored in directory: /root/.cache/pip/wheels/9f/f0/04/caa82c912aee89ce76358ff954f3f0729b7577c8ff23a292e3\n",
            "  Building wheel for demjson (setup.py) ... \u001b[?25l\u001b[?25hdone\n",
            "  Created wheel for demjson: filename=demjson-2.2.4-cp36-none-any.whl size=73547 sha256=4986b9ef2ad6b2732ed26d1d4119dd0f8ef3ac7384e4b315c30756e505c9a011\n",
            "  Stored in directory: /root/.cache/pip/wheels/c5/d2/ab/a54fb5ea53ac3badba098160e8452fa126a51febda80440ded\n",
            "  Building wheel for PyYAML (setup.py) ... \u001b[?25l\u001b[?25hdone\n",
            "  Created wheel for PyYAML: filename=PyYAML-5.3.1-cp36-cp36m-linux_x86_64.whl size=44621 sha256=1afa50ebfade586e8d45a969fbeb48bdb6face5dcbd6027a5efb5b7c65b79230\n",
            "  Stored in directory: /root/.cache/pip/wheels/a7/c1/ea/cf5bd31012e735dc1dfea3131a2d5eae7978b251083d6247bd\n",
            "  Building wheel for sacremoses (setup.py) ... \u001b[?25l\u001b[?25hdone\n",
            "  Created wheel for sacremoses: filename=sacremoses-0.0.43-cp36-none-any.whl size=893260 sha256=ddf8c2c20f7d7722bee281281c717ae8eb57911310ba2a5ba79165ae314689e5\n",
            "  Stored in directory: /root/.cache/pip/wheels/29/3c/fd/7ce5c3f0666dab31a50123635e6fb5e19ceb42ce38d4e58f45\n",
            "Successfully built nltk fasttext demjson PyYAML sacremoses\n",
            "Installing collected packages: tqdm, sentencepiece, torch, torchtext, nltk, torchvision, PyYAML, omegaconf, fasttext, smmap, gitdb, GitPython, sacremoses, transformers, demjson, mmf\n",
            "  Found existing installation: tqdm 4.41.1\n",
            "    Uninstalling tqdm-4.41.1:\n",
            "      Successfully uninstalled tqdm-4.41.1\n",
            "  Found existing installation: torch 1.5.1+cu101\n",
            "    Uninstalling torch-1.5.1+cu101:\n",
            "      Successfully uninstalled torch-1.5.1+cu101\n",
            "  Found existing installation: torchtext 0.3.1\n",
            "    Uninstalling torchtext-0.3.1:\n",
            "      Successfully uninstalled torchtext-0.3.1\n",
            "  Found existing installation: nltk 3.2.5\n",
            "    Uninstalling nltk-3.2.5:\n",
            "      Successfully uninstalled nltk-3.2.5\n",
            "  Found existing installation: torchvision 0.6.1+cu101\n",
            "    Uninstalling torchvision-0.6.1+cu101:\n",
            "      Successfully uninstalled torchvision-0.6.1+cu101\n",
            "  Found existing installation: PyYAML 3.13\n",
            "    Uninstalling PyYAML-3.13:\n",
            "      Successfully uninstalled PyYAML-3.13\n",
            "Successfully installed GitPython-3.1.0 PyYAML-5.3.1 demjson-2.2.4 fasttext-0.9.1 gitdb-4.0.5 mmf-1.0.0rc10 nltk-3.4.5 omegaconf-2.0.1rc4 sacremoses-0.0.43 sentencepiece-0.1.91 smmap-3.0.4 torch-1.5.0 torchtext-0.5.0 torchvision-0.6.0 tqdm-4.47.0 transformers-2.3.0\n"
          ],
          "name": "stdout"
        },
        {
          "output_type": "display_data",
          "data": {
            "application/vnd.colab-display-data+json": {
              "pip_warning": {
                "packages": [
                  "tqdm"
                ]
              }
            }
          },
          "metadata": {
            "tags": []
          }
        }
      ]
    },
    {
      "cell_type": "code",
      "metadata": {
        "id": "zQhvcUcqnRNY"
      },
      "source": [
        "# from mmf.common.registry import registry"
      ],
      "execution_count": null,
      "outputs": []
    },
    {
      "cell_type": "code",
      "metadata": {
        "id": "qMzhjbUPoLAF",
        "outputId": "25df7816-db42-4fc2-f78a-9eb0d8e730d3",
        "colab": {
          "base_uri": "https://localhost:8080/",
          "height": 104
        }
      },
      "source": [
        "# model_cls = registry.get_model_class(\"visual_bert\")\n",
        "# model = model_cls.from_pretrained(\"visual_bert.finetuned.hateful_memes.from_coco\")"
      ],
      "execution_count": null,
      "outputs": [
        {
          "output_type": "stream",
          "text": [
            "/usr/local/lib/python3.6/dist-packages/omegaconf/dictconfig.py:252: UserWarning: Keys with dot (model.bert) are deprecated and will have different semantic meaning the next major version of OmegaConf (2.1)\n",
            "See the compact keys issue for more details: https://github.com/omry/omegaconf/issues/152\n",
            "You can disable this warning by setting the environment variable OC_DISABLE_DOT_ACCESS_WARNING=1\n",
            "  warnings.warn(message=msg, category=UserWarning)\n"
          ],
          "name": "stderr"
        }
      ]
    },
    {
      "cell_type": "code",
      "metadata": {
        "id": "kNf6lxDzCBdh",
        "outputId": "945ff9cf-a112-4414-a116-df89d8aef99f",
        "colab": {
          "base_uri": "https://localhost:8080/",
          "height": 356
        }
      },
      "source": [
        "!pip install torch==1.5.0+cu101 torchvision==0.6.0+cu101 -f https://download.pytorch.org/whl/torch_stable.html"
      ],
      "execution_count": null,
      "outputs": [
        {
          "output_type": "stream",
          "text": [
            "Looking in links: https://download.pytorch.org/whl/torch_stable.html\n",
            "Collecting torch==1.5.0+cu101\n",
            "\u001b[?25l  Downloading https://download.pytorch.org/whl/cu101/torch-1.5.0%2Bcu101-cp36-cp36m-linux_x86_64.whl (703.8MB)\n",
            "\u001b[K     |████████████████████████████████| 703.8MB 26kB/s \n",
            "\u001b[33mWARNING: Retrying (Retry(total=4, connect=None, read=None, redirect=None, status=None)) after connection broken by 'ProtocolError('Connection aborted.', ConnectionResetError(104, 'Connection reset by peer'))': /simple/torchvision/\u001b[0m\n",
            "\u001b[?25hCollecting torchvision==0.6.0+cu101\n",
            "\u001b[?25l  Downloading https://download.pytorch.org/whl/cu101/torchvision-0.6.0%2Bcu101-cp36-cp36m-linux_x86_64.whl (6.6MB)\n",
            "\u001b[K     |████████████████████████████████| 6.6MB 33.4MB/s \n",
            "\u001b[?25hRequirement already satisfied: numpy in /usr/local/lib/python3.6/dist-packages (from torch==1.5.0+cu101) (1.18.5)\n",
            "Requirement already satisfied: future in /usr/local/lib/python3.6/dist-packages (from torch==1.5.0+cu101) (0.16.0)\n",
            "Requirement already satisfied: pillow>=4.1.1 in /usr/local/lib/python3.6/dist-packages (from torchvision==0.6.0+cu101) (7.0.0)\n",
            "Installing collected packages: torch, torchvision\n",
            "  Found existing installation: torch 1.5.0\n",
            "    Uninstalling torch-1.5.0:\n",
            "      Successfully uninstalled torch-1.5.0\n",
            "  Found existing installation: torchvision 0.6.0\n",
            "    Uninstalling torchvision-0.6.0:\n",
            "      Successfully uninstalled torchvision-0.6.0\n",
            "Successfully installed torch-1.5.0+cu101 torchvision-0.6.0+cu101\n"
          ],
          "name": "stdout"
        }
      ]
    },
    {
      "cell_type": "code",
      "metadata": {
        "id": "HvG22TOYGrmA",
        "outputId": "d9b1b4c8-e025-4460-84b1-c291fa87e2f7",
        "colab": {
          "base_uri": "https://localhost:8080/",
          "height": 205
        }
      },
      "source": [
        "!pip show mmf"
      ],
      "execution_count": null,
      "outputs": [
        {
          "output_type": "stream",
          "text": [
            "Name: mmf\n",
            "Version: 1.0.0rc10\n",
            "Summary: mmf: a modular framework for vision and language multimodal research.\n",
            "Home-page: UNKNOWN\n",
            "Author: Facebook AI Research\n",
            "Author-email: mmf@fb.com\n",
            "License: UNKNOWN\n",
            "Location: /usr/local/lib/python3.6/dist-packages\n",
            "Requires: GitPython, torchvision, torchtext, numpy, torch, lmdb, demjson, transformers, fasttext, nltk, editdistance, requests, sklearn, tqdm, omegaconf\n",
            "Required-by: \n"
          ],
          "name": "stdout"
        }
      ]
    },
    {
      "cell_type": "code",
      "metadata": {
        "id": "1LtEcZ7tGrfR"
      },
      "source": [
        "%pycat '/root/.cache/torch/mmf/'"
      ],
      "execution_count": null,
      "outputs": []
    },
    {
      "cell_type": "code",
      "metadata": {
        "id": "r9YencN1P8AA"
      },
      "source": [
        "import pandas as pd"
      ],
      "execution_count": null,
      "outputs": []
    },
    {
      "cell_type": "code",
      "metadata": {
        "id": "9E3ktExRPfvI"
      },
      "source": [
        "a= pd.read_json('/root/.cache/torch/mmf/data/datasets/hateful_memes/defaults/annotations/dev.jsonl',lines=True)"
      ],
      "execution_count": null,
      "outputs": []
    },
    {
      "cell_type": "code",
      "metadata": {
        "id": "twUp7WtljCK9",
        "outputId": "e8a4f1c0-2222-40f0-edde-962d86a1de46",
        "colab": {
          "base_uri": "https://localhost:8080/",
          "height": 402
        }
      },
      "source": [
        "a"
      ],
      "execution_count": null,
      "outputs": [
        {
          "output_type": "execute_result",
          "data": {
            "text/html": [
              "<div>\n",
              "<style scoped>\n",
              "    .dataframe tbody tr th:only-of-type {\n",
              "        vertical-align: middle;\n",
              "    }\n",
              "\n",
              "    .dataframe tbody tr th {\n",
              "        vertical-align: top;\n",
              "    }\n",
              "\n",
              "    .dataframe thead th {\n",
              "        text-align: right;\n",
              "    }\n",
              "</style>\n",
              "<table border=\"1\" class=\"dataframe\">\n",
              "  <thead>\n",
              "    <tr style=\"text-align: right;\">\n",
              "      <th></th>\n",
              "      <th>id</th>\n",
              "      <th>img</th>\n",
              "      <th>label</th>\n",
              "      <th>text</th>\n",
              "    </tr>\n",
              "  </thead>\n",
              "  <tbody>\n",
              "    <tr>\n",
              "      <th>0</th>\n",
              "      <td>8291</td>\n",
              "      <td>img/08291.png</td>\n",
              "      <td>1</td>\n",
              "      <td>the image contains sports ball a middle easter...</td>\n",
              "    </tr>\n",
              "    <tr>\n",
              "      <th>1</th>\n",
              "      <td>46971</td>\n",
              "      <td>img/46971.png</td>\n",
              "      <td>1</td>\n",
              "      <td>the image contains  a white neutral Man and th...</td>\n",
              "    </tr>\n",
              "    <tr>\n",
              "      <th>2</th>\n",
              "      <td>3745</td>\n",
              "      <td>img/03745.png</td>\n",
              "      <td>1</td>\n",
              "      <td>the image contains laptop mouse a white happy ...</td>\n",
              "    </tr>\n",
              "    <tr>\n",
              "      <th>3</th>\n",
              "      <td>83745</td>\n",
              "      <td>img/83745.png</td>\n",
              "      <td>1</td>\n",
              "      <td>the image contains clock and the data is it is...</td>\n",
              "    </tr>\n",
              "    <tr>\n",
              "      <th>4</th>\n",
              "      <td>80243</td>\n",
              "      <td>img/80243.png</td>\n",
              "      <td>1</td>\n",
              "      <td>the image contains nothing and the data is mis...</td>\n",
              "    </tr>\n",
              "    <tr>\n",
              "      <th>...</th>\n",
              "      <td>...</td>\n",
              "      <td>...</td>\n",
              "      <td>...</td>\n",
              "      <td>...</td>\n",
              "    </tr>\n",
              "    <tr>\n",
              "      <th>495</th>\n",
              "      <td>83675</td>\n",
              "      <td>img/83675.png</td>\n",
              "      <td>0</td>\n",
              "      <td>the image contains  a white fear Man and the d...</td>\n",
              "    </tr>\n",
              "    <tr>\n",
              "      <th>496</th>\n",
              "      <td>37198</td>\n",
              "      <td>img/37198.png</td>\n",
              "      <td>0</td>\n",
              "      <td>the image contains  a white sad Man and the da...</td>\n",
              "    </tr>\n",
              "    <tr>\n",
              "      <th>497</th>\n",
              "      <td>48670</td>\n",
              "      <td>img/48670.png</td>\n",
              "      <td>0</td>\n",
              "      <td>the image contains nothing and the data is loo...</td>\n",
              "    </tr>\n",
              "    <tr>\n",
              "      <th>498</th>\n",
              "      <td>9863</td>\n",
              "      <td>img/09863.png</td>\n",
              "      <td>0</td>\n",
              "      <td>the image contains  a white happy Woman and th...</td>\n",
              "    </tr>\n",
              "    <tr>\n",
              "      <th>499</th>\n",
              "      <td>97320</td>\n",
              "      <td>img/97320.png</td>\n",
              "      <td>0</td>\n",
              "      <td>the image contains nothing and the data is \"wh...</td>\n",
              "    </tr>\n",
              "  </tbody>\n",
              "</table>\n",
              "<p>500 rows × 4 columns</p>\n",
              "</div>"
            ],
            "text/plain": [
              "        id  ...                                               text\n",
              "0     8291  ...  the image contains sports ball a middle easter...\n",
              "1    46971  ...  the image contains  a white neutral Man and th...\n",
              "2     3745  ...  the image contains laptop mouse a white happy ...\n",
              "3    83745  ...  the image contains clock and the data is it is...\n",
              "4    80243  ...  the image contains nothing and the data is mis...\n",
              "..     ...  ...                                                ...\n",
              "495  83675  ...  the image contains  a white fear Man and the d...\n",
              "496  37198  ...  the image contains  a white sad Man and the da...\n",
              "497  48670  ...  the image contains nothing and the data is loo...\n",
              "498   9863  ...  the image contains  a white happy Woman and th...\n",
              "499  97320  ...  the image contains nothing and the data is \"wh...\n",
              "\n",
              "[500 rows x 4 columns]"
            ]
          },
          "metadata": {
            "tags": []
          },
          "execution_count": 37
        }
      ]
    },
    {
      "cell_type": "code",
      "metadata": {
        "id": "1oJhNtfiQVTZ",
        "outputId": "c39f0e61-fdad-42dd-df10-9191403e6275",
        "colab": {
          "base_uri": "https://localhost:8080/",
          "height": 34
        }
      },
      "source": [
        "!ls '/root/.cache/torch/mmf/data/datasets/hateful_memes/defaults/annotations/'"
      ],
      "execution_count": null,
      "outputs": [
        {
          "output_type": "stream",
          "text": [
            "dev.jsonl  test.jsonl  train.jsonl\n"
          ],
          "name": "stdout"
        }
      ]
    },
    {
      "cell_type": "code",
      "metadata": {
        "id": "vH0tfS2qQmAi"
      },
      "source": [
        "!rm '/root/.cache/torch/mmf/data/datasets/hateful_memes/defaults/annotations/dev.jsonl'"
      ],
      "execution_count": null,
      "outputs": []
    },
    {
      "cell_type": "code",
      "metadata": {
        "id": "qmPCM3GFQocF"
      },
      "source": [
        "!rm '/root/.cache/torch/mmf/data/datasets/hateful_memes/defaults/annotations/test.jsonl'"
      ],
      "execution_count": null,
      "outputs": []
    },
    {
      "cell_type": "code",
      "metadata": {
        "id": "-XuTDEArQogu"
      },
      "source": [
        "!rm '/root/.cache/torch/mmf/data/datasets/hateful_memes/defaults/annotations/train.jsonl'"
      ],
      "execution_count": null,
      "outputs": []
    },
    {
      "cell_type": "code",
      "metadata": {
        "id": "8mdL4Xo4QoZR"
      },
      "source": [
        "!cp '/content/drive/My Drive/eggplant/data/data_with_img/v1_tag_in_text/v1_train.jsonl' '/root/.cache/torch/mmf/data/datasets/hateful_memes/defaults/annotations/train.jsonl'"
      ],
      "execution_count": null,
      "outputs": []
    },
    {
      "cell_type": "code",
      "metadata": {
        "id": "idCX1HFAQoWp"
      },
      "source": [
        "!cp '/content/drive/My Drive/eggplant/data/data_with_img/v1_tag_in_text/v1_val.jsonl' '/root/.cache/torch/mmf/data/datasets/hateful_memes/defaults/annotations/dev.jsonl'"
      ],
      "execution_count": null,
      "outputs": []
    },
    {
      "cell_type": "code",
      "metadata": {
        "id": "GdQLzZGkQmEc"
      },
      "source": [
        "!cp '/content/drive/My Drive/eggplant/data/data_with_img/v1_tag_in_text/v1_test.jsonl' '/root/.cache/torch/mmf/data/datasets/hateful_memes/defaults/annotations/test.jsonl'"
      ],
      "execution_count": null,
      "outputs": []
    },
    {
      "cell_type": "code",
      "metadata": {
        "id": "lJMmWjiRQl-L",
        "outputId": "a1caa29d-cc9d-4848-d0d8-defd9d95e438",
        "colab": {
          "base_uri": "https://localhost:8080/",
          "height": 34
        }
      },
      "source": [
        "!ls '/root/.cache/torch/mmf/data/datasets/hateful_memes/defaults/images/'"
      ],
      "execution_count": null,
      "outputs": [
        {
          "output_type": "stream",
          "text": [
            "'AmbujeCopy of Copy of Lnmwdnq3YcF7F3YsJncp.zip'   data   img\n"
          ],
          "name": "stdout"
        }
      ]
    },
    {
      "cell_type": "code",
      "metadata": {
        "id": "dhzqrI6-lwcu"
      },
      "source": [
        "import pandas as pd"
      ],
      "execution_count": null,
      "outputs": []
    },
    {
      "cell_type": "code",
      "metadata": {
        "id": "T_7LS3giRfKd"
      },
      "source": [
        "a= pd.read_json('/content/drive/My Drive/eggplant/data/data_with_img/deeface_v1_csvtojsonl_mmf/deeface_trainingset_v1.jsonl',lines=True)"
      ],
      "execution_count": null,
      "outputs": []
    },
    {
      "cell_type": "code",
      "metadata": {
        "id": "U1ENVTWgRfHL",
        "outputId": "e191a3ad-972a-4987-dab3-8aa21d82222a",
        "colab": {
          "base_uri": "https://localhost:8080/",
          "height": 402
        }
      },
      "source": [
        "a"
      ],
      "execution_count": null,
      "outputs": [
        {
          "output_type": "execute_result",
          "data": {
            "text/html": [
              "<div>\n",
              "<style scoped>\n",
              "    .dataframe tbody tr th:only-of-type {\n",
              "        vertical-align: middle;\n",
              "    }\n",
              "\n",
              "    .dataframe tbody tr th {\n",
              "        vertical-align: top;\n",
              "    }\n",
              "\n",
              "    .dataframe thead th {\n",
              "        text-align: right;\n",
              "    }\n",
              "</style>\n",
              "<table border=\"1\" class=\"dataframe\">\n",
              "  <thead>\n",
              "    <tr style=\"text-align: right;\">\n",
              "      <th></th>\n",
              "      <th>id</th>\n",
              "      <th>img</th>\n",
              "      <th>label</th>\n",
              "      <th>text</th>\n",
              "    </tr>\n",
              "  </thead>\n",
              "  <tbody>\n",
              "    <tr>\n",
              "      <th>0</th>\n",
              "      <td>5917</td>\n",
              "      <td>img/05917.png</td>\n",
              "      <td>1</td>\n",
              "      <td>the image contains chair and the data is steph...</td>\n",
              "    </tr>\n",
              "    <tr>\n",
              "      <th>1</th>\n",
              "      <td>86250</td>\n",
              "      <td>img/86250.png</td>\n",
              "      <td>1</td>\n",
              "      <td>the image contains  a white fear Man and the d...</td>\n",
              "    </tr>\n",
              "    <tr>\n",
              "      <th>2</th>\n",
              "      <td>56872</td>\n",
              "      <td>img/56872.png</td>\n",
              "      <td>0</td>\n",
              "      <td>the image contains oven cat and the data is so...</td>\n",
              "    </tr>\n",
              "    <tr>\n",
              "      <th>3</th>\n",
              "      <td>13924</td>\n",
              "      <td>img/13924.png</td>\n",
              "      <td>0</td>\n",
              "      <td>the image contains couch a middle eastern sad ...</td>\n",
              "    </tr>\n",
              "    <tr>\n",
              "      <th>4</th>\n",
              "      <td>16537</td>\n",
              "      <td>img/16537.png</td>\n",
              "      <td>0</td>\n",
              "      <td>the image contains  a asian surprise Man and t...</td>\n",
              "    </tr>\n",
              "    <tr>\n",
              "      <th>...</th>\n",
              "      <td>...</td>\n",
              "      <td>...</td>\n",
              "      <td>...</td>\n",
              "      <td>...</td>\n",
              "    </tr>\n",
              "    <tr>\n",
              "      <th>10825</th>\n",
              "      <td>71320</td>\n",
              "      <td>img/71320.png</td>\n",
              "      <td>1</td>\n",
              "      <td>the image contains tie a middle eastern neutra...</td>\n",
              "    </tr>\n",
              "    <tr>\n",
              "      <th>10826</th>\n",
              "      <td>76458</td>\n",
              "      <td>img/76458.png</td>\n",
              "      <td>0</td>\n",
              "      <td>the image contains  a middle eastern sad Man a...</td>\n",
              "    </tr>\n",
              "    <tr>\n",
              "      <th>10827</th>\n",
              "      <td>17205</td>\n",
              "      <td>img/17205.png</td>\n",
              "      <td>1</td>\n",
              "      <td>the image contains  a white happy Man and the ...</td>\n",
              "    </tr>\n",
              "    <tr>\n",
              "      <th>10828</th>\n",
              "      <td>89423</td>\n",
              "      <td>img/89423.png</td>\n",
              "      <td>1</td>\n",
              "      <td>the image contains  a white happy Man and the ...</td>\n",
              "    </tr>\n",
              "    <tr>\n",
              "      <th>10829</th>\n",
              "      <td>5264</td>\n",
              "      <td>img/05264.png</td>\n",
              "      <td>1</td>\n",
              "      <td>the image contains elephant sheep horse and th...</td>\n",
              "    </tr>\n",
              "  </tbody>\n",
              "</table>\n",
              "<p>10830 rows × 4 columns</p>\n",
              "</div>"
            ],
            "text/plain": [
              "          id  ...                                               text\n",
              "0       5917  ...  the image contains chair and the data is steph...\n",
              "1      86250  ...  the image contains  a white fear Man and the d...\n",
              "2      56872  ...  the image contains oven cat and the data is so...\n",
              "3      13924  ...  the image contains couch a middle eastern sad ...\n",
              "4      16537  ...  the image contains  a asian surprise Man and t...\n",
              "...      ...  ...                                                ...\n",
              "10825  71320  ...  the image contains tie a middle eastern neutra...\n",
              "10826  76458  ...  the image contains  a middle eastern sad Man a...\n",
              "10827  17205  ...  the image contains  a white happy Man and the ...\n",
              "10828  89423  ...  the image contains  a white happy Man and the ...\n",
              "10829   5264  ...  the image contains elephant sheep horse and th...\n",
              "\n",
              "[10830 rows x 4 columns]"
            ]
          },
          "metadata": {
            "tags": []
          },
          "execution_count": 4
        }
      ]
    },
    {
      "cell_type": "code",
      "metadata": {
        "id": "JLh7j2uWRfEP"
      },
      "source": [
        ""
      ],
      "execution_count": null,
      "outputs": []
    },
    {
      "cell_type": "code",
      "metadata": {
        "id": "4Pd4g0HRRfBL"
      },
      "source": [
        ""
      ],
      "execution_count": null,
      "outputs": []
    },
    {
      "cell_type": "code",
      "metadata": {
        "id": "xwcT-QIARe-S"
      },
      "source": [
        ""
      ],
      "execution_count": null,
      "outputs": []
    },
    {
      "cell_type": "code",
      "metadata": {
        "id": "LxjoXINIQE8U",
        "outputId": "0c84bf73-8448-4cba-8fea-02dfaf72d419",
        "colab": {
          "base_uri": "https://localhost:8080/",
          "height": 402
        }
      },
      "source": [
        "a"
      ],
      "execution_count": null,
      "outputs": [
        {
          "output_type": "execute_result",
          "data": {
            "text/html": [
              "<div>\n",
              "<style scoped>\n",
              "    .dataframe tbody tr th:only-of-type {\n",
              "        vertical-align: middle;\n",
              "    }\n",
              "\n",
              "    .dataframe tbody tr th {\n",
              "        vertical-align: top;\n",
              "    }\n",
              "\n",
              "    .dataframe thead th {\n",
              "        text-align: right;\n",
              "    }\n",
              "</style>\n",
              "<table border=\"1\" class=\"dataframe\">\n",
              "  <thead>\n",
              "    <tr style=\"text-align: right;\">\n",
              "      <th></th>\n",
              "      <th>id</th>\n",
              "      <th>img</th>\n",
              "      <th>text</th>\n",
              "    </tr>\n",
              "  </thead>\n",
              "  <tbody>\n",
              "    <tr>\n",
              "      <th>0</th>\n",
              "      <td>16395</td>\n",
              "      <td>img/16395.png</td>\n",
              "      <td>handjobs sold seperately</td>\n",
              "    </tr>\n",
              "    <tr>\n",
              "      <th>1</th>\n",
              "      <td>37405</td>\n",
              "      <td>img/37405.png</td>\n",
              "      <td>introducing fidget spinner for women</td>\n",
              "    </tr>\n",
              "    <tr>\n",
              "      <th>2</th>\n",
              "      <td>94180</td>\n",
              "      <td>img/94180.png</td>\n",
              "      <td>happy pride month let's go beat up lesbians</td>\n",
              "    </tr>\n",
              "    <tr>\n",
              "      <th>3</th>\n",
              "      <td>54321</td>\n",
              "      <td>img/54321.png</td>\n",
              "      <td>laughs in [majority of u.s crime rate]</td>\n",
              "    </tr>\n",
              "    <tr>\n",
              "      <th>4</th>\n",
              "      <td>97015</td>\n",
              "      <td>img/97015.png</td>\n",
              "      <td>finds out those 72 virgins.. are goats</td>\n",
              "    </tr>\n",
              "    <tr>\n",
              "      <th>...</th>\n",
              "      <td>...</td>\n",
              "      <td>...</td>\n",
              "      <td>...</td>\n",
              "    </tr>\n",
              "    <tr>\n",
              "      <th>995</th>\n",
              "      <td>3869</td>\n",
              "      <td>img/03869.png</td>\n",
              "      <td>a mother's love for the child is a divine thing</td>\n",
              "    </tr>\n",
              "    <tr>\n",
              "      <th>996</th>\n",
              "      <td>23817</td>\n",
              "      <td>img/23817.png</td>\n",
              "      <td>sea monkeys</td>\n",
              "    </tr>\n",
              "    <tr>\n",
              "      <th>997</th>\n",
              "      <td>56280</td>\n",
              "      <td>img/56280.png</td>\n",
              "      <td>little miss muffet sat on her tuffet</td>\n",
              "    </tr>\n",
              "    <tr>\n",
              "      <th>998</th>\n",
              "      <td>29384</td>\n",
              "      <td>img/29384.png</td>\n",
              "      <td>they're in a row</td>\n",
              "    </tr>\n",
              "    <tr>\n",
              "      <th>999</th>\n",
              "      <td>34127</td>\n",
              "      <td>img/34127.png</td>\n",
              "      <td>that feeling when you win a fifa game after be...</td>\n",
              "    </tr>\n",
              "  </tbody>\n",
              "</table>\n",
              "<p>1000 rows × 3 columns</p>\n",
              "</div>"
            ],
            "text/plain": [
              "        id            img                                               text\n",
              "0    16395  img/16395.png                           handjobs sold seperately\n",
              "1    37405  img/37405.png               introducing fidget spinner for women\n",
              "2    94180  img/94180.png        happy pride month let's go beat up lesbians\n",
              "3    54321  img/54321.png             laughs in [majority of u.s crime rate]\n",
              "4    97015  img/97015.png             finds out those 72 virgins.. are goats\n",
              "..     ...            ...                                                ...\n",
              "995   3869  img/03869.png    a mother's love for the child is a divine thing\n",
              "996  23817  img/23817.png                                        sea monkeys\n",
              "997  56280  img/56280.png               little miss muffet sat on her tuffet\n",
              "998  29384  img/29384.png                                   they're in a row\n",
              "999  34127  img/34127.png  that feeling when you win a fifa game after be...\n",
              "\n",
              "[1000 rows x 3 columns]"
            ]
          },
          "metadata": {
            "tags": []
          },
          "execution_count": 14
        }
      ]
    },
    {
      "cell_type": "code",
      "metadata": {
        "id": "M2i2XXHKQFAZ"
      },
      "source": [
        ""
      ],
      "execution_count": null,
      "outputs": []
    },
    {
      "cell_type": "code",
      "metadata": {
        "id": "jK_ZEeMoIPj2"
      },
      "source": [
        "!rm '/usr/local/lib/python3.6/dist-packages/mmf/projects/hateful_memes/configs/visual_bert/defaults.yaml'"
      ],
      "execution_count": null,
      "outputs": []
    },
    {
      "cell_type": "code",
      "metadata": {
        "id": "tsEczuLyIPhT",
        "outputId": "0f0f69d7-8136-48ff-faaf-80b03e35b977",
        "colab": {
          "base_uri": "https://localhost:8080/",
          "height": 34
        }
      },
      "source": [
        "%%writefile /usr/local/lib/python3.6/dist-packages/mmf/projects/hateful_memes/configs/visual_bert/defaults.yaml\n",
        "includes:\n",
        "- configs/datasets/hateful_memes/with_features.yaml\n",
        "\n",
        "model_config:\n",
        "  visual_bert:\n",
        "    training_head_type: classification\n",
        "    num_labels: 2\n",
        "    losses:\n",
        "    - cross_entropy\n",
        "\n",
        "dataset_config:\n",
        "  hateful_memes:\n",
        "    return_features_info: true\n",
        "    processors:\n",
        "      text_processor:\n",
        "        type: bert_tokenizer\n",
        "        params:\n",
        "          tokenizer_config:\n",
        "            type: bert-base-uncased\n",
        "            params:\n",
        "              do_lower_case: true\n",
        "          mask_probability: 0\n",
        "          max_seq_length: 128\n",
        "\n",
        "optimizer:\n",
        "  type: adam_w\n",
        "  params:\n",
        "    lr: 5e-5\n",
        "    eps: 1e-8\n",
        "\n",
        "scheduler:\n",
        "  type: warmup_linear\n",
        "  params:\n",
        "    num_warmup_steps: 2000\n",
        "    num_training_steps: ${training.max_updates}\n",
        "\n",
        "evaluation:\n",
        "  metrics:\n",
        "  - accuracy\n",
        "  - binary_f1\n",
        "  - roc_auc\n",
        "\n",
        "training:\n",
        "  batch_size: 6\n",
        "  lr_scheduler: true\n",
        "  max_updates: 22000\n",
        "  find_unused_parameters: true\n",
        "  early_stop:\n",
        "    criteria: hateful_memes/roc_auc\n",
        "    minimize: false\n",
        "\n",
        "checkpoint:\n",
        "  pretrained_state_mapping:\n",
        "    model.bert: model.bert\n"
      ],
      "execution_count": null,
      "outputs": [
        {
          "output_type": "stream",
          "text": [
            "Writing /usr/local/lib/python3.6/dist-packages/mmf/projects/hateful_memes/configs/visual_bert/defaults.yaml\n"
          ],
          "name": "stdout"
        }
      ]
    },
    {
      "cell_type": "code",
      "metadata": {
        "id": "EZiiqEcPIPed"
      },
      "source": [
        ""
      ],
      "execution_count": null,
      "outputs": []
    },
    {
      "cell_type": "code",
      "metadata": {
        "id": "FHusJP4kIPbv"
      },
      "source": [
        ""
      ],
      "execution_count": null,
      "outputs": []
    },
    {
      "cell_type": "code",
      "metadata": {
        "id": "Jzi-VZnVIPZB"
      },
      "source": [
        "mmf_convert_hm --zip_file='Copy of Lnmwdnq3YcF7F3YsJncp.zip' --password='KexZs4tn8hujn1nK'"
      ],
      "execution_count": null,
      "outputs": []
    },
    {
      "cell_type": "code",
      "metadata": {
        "id": "YCmep8ZCtmZJ",
        "outputId": "ceb678f7-9dd5-4933-b189-ca5441a00d69",
        "colab": {
          "base_uri": "https://localhost:8080/",
          "height": 238
        }
      },
      "source": [
        "!mmf_convert_hm --zip_file='/content/drive/My Drive/eggplant/Copy of Copy of Lnmwdnq3YcF7F3YsJncp.zip' --password='KexZs4tn8hujn1nK'"
      ],
      "execution_count": null,
      "outputs": [
        {
          "output_type": "stream",
          "text": [
            "2020-06-30 13:19:22.228523: I tensorflow/stream_executor/platform/default/dso_loader.cc:44] Successfully opened dynamic library libcudart.so.10.1\n",
            "Data folder is /root/.cache/torch/mmf/data\n",
            "Zip path is /content/drive/My Drive/eggplant/AmbujeCopy of Copy of Lnmwdnq3YcF7F3YsJncp.zip\n",
            "Starting checksum for AmbujeCopy of Copy of Lnmwdnq3YcF7F3YsJncp.zip\n",
            "Checksum successful\n",
            "Moving /content/drive/My Drive/eggplant/AmbujeCopy of Copy of Lnmwdnq3YcF7F3YsJncp.zip\n",
            "Unzipping /content/drive/My Drive/eggplant/AmbujeCopy of Copy of Lnmwdnq3YcF7F3YsJncp.zip\n",
            "Extracting the zip can take time. Sit back and relax.\n",
            "Moving train.jsonl\n",
            "Moving dev.jsonl\n",
            "Moving test.jsonl\n",
            "Moving img\n"
          ],
          "name": "stdout"
        }
      ]
    },
    {
      "cell_type": "code",
      "metadata": {
        "id": "392cmtFON8j3"
      },
      "source": [
        "!ls /root/"
      ],
      "execution_count": null,
      "outputs": []
    },
    {
      "cell_type": "code",
      "metadata": {
        "id": "c8C9RA5ON8nq",
        "outputId": "58d953e6-0b35-4b63-bd83-dd089c4652c6",
        "colab": {
          "base_uri": "https://localhost:8080/",
          "height": 84
        }
      },
      "source": [
        "!find . -name train.jsonl"
      ],
      "execution_count": null,
      "outputs": [
        {
          "output_type": "stream",
          "text": [
            "./drive/My Drive/eggplant/data/train.jsonl\n",
            "find: ‘./drive/My Drive/eggplant/data/img’: Input/output error\n",
            "find: ‘./drive/My Drive/eggplant/torch/mmf/data/datasets/hateful_memes/defaults/images/img’: Input/output error\n",
            "./drive/My Drive/eggplant/torch/mmf/data/datasets/hateful_memes/defaults/annotations/train.jsonl\n"
          ],
          "name": "stdout"
        }
      ]
    },
    {
      "cell_type": "code",
      "metadata": {
        "id": "M8Dev6iyl5kl"
      },
      "source": [
        "#defaults.yaml for pre-trained, and to train your network from_coco.yaml.\n"
      ],
      "execution_count": null,
      "outputs": []
    },
    {
      "cell_type": "code",
      "metadata": {
        "id": "OZSbLPAxACLR",
        "outputId": "998e5e81-2bf0-4d23-9eb0-e6d6ae8bd9c4",
        "colab": {
          "base_uri": "https://localhost:8080/",
          "height": 272
        }
      },
      "source": [
        "!mmf_run config=projects/hateful_memes/configs/visual_bert/defaults.yaml model=visual_bert dataset=hateful_memes run_type=val checkpoint.resume_zoo=visual_bert.finetuned.hateful_memes.from_coco"
      ],
      "execution_count": null,
      "outputs": [
        {
          "output_type": "stream",
          "text": [
            "2020-06-30 15:08:02.280491: I tensorflow/stream_executor/platform/default/dso_loader.cc:44] Successfully opened dynamic library libcudart.so.10.1\n",
            "Namespace(config_override=None, local_rank=None, opts=['config=projects/hateful_memes/configs/visual_bert/defaults.yaml', 'model=visual_bert', 'dataset=hateful_memes', 'run_type=val', 'checkpoint.resume_zoo=visual_bert.finetuned.hateful_memes.from_coco'])\n",
            "/usr/local/lib/python3.6/dist-packages/omegaconf/dictconfig.py:252: UserWarning: Keys with dot (model.bert) are deprecated and will have different semantic meaning the next major version of OmegaConf (2.1)\n",
            "See the compact keys issue for more details: https://github.com/omry/omegaconf/issues/152\n",
            "You can disable this warning by setting the environment variable OC_DISABLE_DOT_ACCESS_WARNING=1\n",
            "  warnings.warn(message=msg, category=UserWarning)\n",
            "Overriding option config to projects/hateful_memes/configs/visual_bert/defaults.yaml\n",
            "Overriding option model to visual_bert\n",
            "Overriding option datasets to hateful_memes\n",
            "Overriding option run_type to val\n",
            "Overriding option checkpoint.resume_zoo to visual_bert.finetuned.hateful_memes.from_coco\n",
            "Using seed 5422336\n",
            "Logging to: ./save/logs/train_2020-06-30T15:08:05.log\n",
            "9it [01:29,  9.98s/it]\n"
          ],
          "name": "stdout"
        }
      ]
    },
    {
      "cell_type": "code",
      "metadata": {
        "id": "azc_c0yzq2rI"
      },
      "source": [
        "mmf_run config='projects/hateful_memes/configs/visual_bert/from_coco.yaml' model='visual_bert' dataset=hateful_memes"
      ],
      "execution_count": null,
      "outputs": []
    },
    {
      "cell_type": "code",
      "metadata": {
        "id": "U6eJO_3HmIkS"
      },
      "source": [
        "#Generates CSV for test data. "
      ],
      "execution_count": null,
      "outputs": []
    },
    {
      "cell_type": "code",
      "metadata": {
        "id": "YBXwRJ7gACYY",
        "outputId": "2b137f6c-fdd2-4bc9-9e89-2287c0906062",
        "colab": {
          "base_uri": "https://localhost:8080/",
          "height": 289
        }
      },
      "source": [
        "!mmf_predict config=projects/hateful_memes/configs/visual_bert/defaults.yaml model=visual_bert dataset=hateful_memes run_type=test checkpoint.resume_zoo=visual_bert.finetuned.hateful_memes.from_coco"
      ],
      "execution_count": null,
      "outputs": [
        {
          "output_type": "stream",
          "text": [
            "2020-06-30 15:10:02.596735: I tensorflow/stream_executor/platform/default/dso_loader.cc:44] Successfully opened dynamic library libcudart.so.10.1\n",
            "Namespace(config_override=None, local_rank=None, opts=['config=projects/hateful_memes/configs/visual_bert/defaults.yaml', 'model=visual_bert', 'dataset=hateful_memes', 'run_type=test', 'checkpoint.resume_zoo=visual_bert.finetuned.hateful_memes.from_coco', 'evaluation.predict=true'])\n",
            "/usr/local/lib/python3.6/dist-packages/omegaconf/dictconfig.py:252: UserWarning: Keys with dot (model.bert) are deprecated and will have different semantic meaning the next major version of OmegaConf (2.1)\n",
            "See the compact keys issue for more details: https://github.com/omry/omegaconf/issues/152\n",
            "You can disable this warning by setting the environment variable OC_DISABLE_DOT_ACCESS_WARNING=1\n",
            "  warnings.warn(message=msg, category=UserWarning)\n",
            "Overriding option config to projects/hateful_memes/configs/visual_bert/defaults.yaml\n",
            "Overriding option model to visual_bert\n",
            "Overriding option datasets to hateful_memes\n",
            "Overriding option run_type to test\n",
            "Overriding option checkpoint.resume_zoo to visual_bert.finetuned.hateful_memes.from_coco\n",
            "Overriding option evaluation.predict to true\n",
            "Using seed 5717764\n",
            "Logging to: ./save/logs/train_2020-06-30T15:10:05.log\n",
            "100% 16/16 [00:33<00:00,  2.09s/it]\n"
          ],
          "name": "stdout"
        }
      ]
    },
    {
      "cell_type": "code",
      "metadata": {
        "id": "Kym8wf1WUmFx",
        "outputId": "7b279e93-e8b5-4c63-8962-254da8057ded",
        "colab": {
          "base_uri": "https://localhost:8080/",
          "height": 322
        }
      },
      "source": [
        "# !mmf_run config='projects/hateful_memes/configs/visual_bert/from_coco.yaml' model='visual_bert' dataset=hateful_memes \\\n",
        "# run_type=val checkpoint.resume_zoo='visual_bert.finetuned.hateful_memes.from_coco'"
      ],
      "execution_count": null,
      "outputs": [
        {
          "output_type": "stream",
          "text": [
            "2020-06-25 09:08:47.430247: I tensorflow/stream_executor/platform/default/dso_loader.cc:44] Successfully opened dynamic library libcudart.so.10.1\n",
            "Namespace(config_override=None, local_rank=None, opts=['config=projects/hateful_memes/configs/visual_bert/from_coco.yaml', 'model=visual_bert', 'dataset=hateful_memes', 'run_type=val', 'checkpoint.resume_zoo=visual_bert.finetuned.hateful_memes.from_coco'])\n",
            "/usr/local/lib/python3.6/dist-packages/omegaconf/dictconfig.py:252: UserWarning: Keys with dot (model.bert) are deprecated and will have different semantic meaning the next major version of OmegaConf (2.1)\n",
            "See the compact keys issue for more details: https://github.com/omry/omegaconf/issues/152\n",
            "You can disable this warning by setting the environment variable OC_DISABLE_DOT_ACCESS_WARNING=1\n",
            "  warnings.warn(message=msg, category=UserWarning)\n",
            "Overriding option config to projects/hateful_memes/configs/visual_bert/from_coco.yaml\n",
            "Overriding option model to visual_bert\n",
            "Overriding option datasets to hateful_memes\n",
            "Overriding option run_type to val\n",
            "Overriding option checkpoint.resume_zoo to visual_bert.finetuned.hateful_memes.from_coco\n",
            "Using seed 51566994\n",
            "Logging to: ./save/logs/train_2020-06-25T09:08:51.log\n",
            "Downloading features.tar.gz: 100% 8.44G/8.44G [11:03<00:00, 12.7MB/s]\n",
            "Downloading extras.tar.gz: 100% 211k/211k [00:01<00:00, 153kB/s] \n",
            "Downloading visual_bert.finetuned.hateful_memes_from_coco.tar.gz: 100% 414M/414M [00:36<00:00, 11.2MB/s]\n",
            "8it [01:22, 10.26s/it]\n"
          ],
          "name": "stdout"
        }
      ]
    },
    {
      "cell_type": "code",
      "metadata": {
        "id": "pumeF4tpCL-d",
        "outputId": "5101df7e-c87e-4b30-8fa0-f6b1048ca857",
        "colab": {
          "base_uri": "https://localhost:8080/",
          "height": 692
        }
      },
      "source": [
        "!mmf_run config='projects/hateful_memes/configs/visual_bert/from_coco.yaml' model='visual_bert' dataset=hateful_memes"
      ],
      "execution_count": null,
      "outputs": [
        {
          "output_type": "stream",
          "text": [
            "2020-06-26 07:23:13.551129: I tensorflow/stream_executor/platform/default/dso_loader.cc:44] Successfully opened dynamic library libcudart.so.10.1\n",
            "Namespace(config_override=None, local_rank=None, opts=['config=projects/hateful_memes/configs/visual_bert/from_coco.yaml', 'model=visual_bert', 'dataset=hateful_memes'])\n",
            "/usr/local/lib/python3.6/dist-packages/mmf/utils/configuration.py:528: UserWarning: Device specified is 'cuda' but cuda is not present. Switching to CPU version.\n",
            "  + \"Switching to CPU version.\"\n",
            "/usr/local/lib/python3.6/dist-packages/omegaconf/dictconfig.py:252: UserWarning: Keys with dot (model.bert) are deprecated and will have different semantic meaning the next major version of OmegaConf (2.1)\n",
            "See the compact keys issue for more details: https://github.com/omry/omegaconf/issues/152\n",
            "You can disable this warning by setting the environment variable OC_DISABLE_DOT_ACCESS_WARNING=1\n",
            "  warnings.warn(message=msg, category=UserWarning)\n",
            "Overriding option config to projects/hateful_memes/configs/visual_bert/from_coco.yaml\n",
            "Overriding option model to visual_bert\n",
            "Overriding option datasets to hateful_memes\n",
            "Using seed 18298567\n",
            "Logging to: ./save/logs/train_2020-06-26T07:23:18.log\n",
            "Downloading features.tar.gz: 100% 8.44G/8.44G [06:54<00:00, 20.4MB/s]\n",
            "Downloading extras.tar.gz: 100% 211k/211k [00:01<00:00, 201kB/s]  \n",
            "Downloading visual_bert.pretrained.coco_train_val.tar.gz: 100% 415M/415M [00:17<00:00, 23.5MB/s]\n",
            "THCudaCheck FAIL file=/pytorch/aten/src/THC/THCGeneral.cpp line=47 error=100 : no CUDA-capable device is detected\n",
            "Traceback (most recent call last):\n",
            "  File \"/usr/local/bin/mmf_run\", line 8, in <module>\n",
            "    sys.exit(run())\n",
            "  File \"/usr/local/lib/python3.6/dist-packages/mmf_cli/run.py\", line 111, in run\n",
            "    main(configuration, predict=predict)\n",
            "  File \"/usr/local/lib/python3.6/dist-packages/mmf_cli/run.py\", line 44, in main\n",
            "    trainer.train()\n",
            "  File \"/usr/local/lib/python3.6/dist-packages/mmf/trainers/base_trainer.py\", line 250, in train\n",
            "    report = self._forward_pass(batch)\n",
            "  File \"/usr/local/lib/python3.6/dist-packages/mmf/trainers/base_trainer.py\", line 274, in _forward_pass\n",
            "    model_output = self.model(prepared_batch)\n",
            "  File \"/usr/local/lib/python3.6/dist-packages/mmf/models/base_model.py\", line 148, in __call__\n",
            "    model_output = super().__call__(sample_list, *args, **kwargs)\n",
            "  File \"/usr/local/lib/python3.6/dist-packages/torch/nn/modules/module.py\", line 550, in __call__\n",
            "    result = self.forward(*input, **kwargs)\n",
            "  File \"/usr/local/lib/python3.6/dist-packages/mmf/models/visual_bert.py\", line 525, in forward\n",
            "    sample_list = self.add_custom_params(sample_list)\n",
            "  File \"/usr/local/lib/python3.6/dist-packages/mmf/models/visual_bert.py\", line 499, in add_custom_params\n",
            "    .expand(*visual_embeddings.size()[:-1])\n",
            "  File \"/usr/local/lib/python3.6/dist-packages/torch/cuda/__init__.py\", line 153, in _lazy_init\n",
            "    torch._C._cuda_init()\n",
            "RuntimeError: cuda runtime error (100) : no CUDA-capable device is detected at /pytorch/aten/src/THC/THCGeneral.cpp:47\n"
          ],
          "name": "stdout"
        }
      ]
    },
    {
      "cell_type": "code",
      "metadata": {
        "id": "hi19z32qEddm",
        "outputId": "8d4d4e37-06c6-414a-9226-e7793f092fa5",
        "colab": {
          "base_uri": "https://localhost:8080/",
          "height": 470
        }
      },
      "source": [
        "!mmf_run config='projects/hateful_memes/configs/visual_bert/from_coco.yaml' model='visual_bert' dataset=hateful_memes checkpoint.resume_pretrained=True \\\n",
        "    checkpoint.resume_file='/content/save/models/model_2000.ckpt'"
      ],
      "execution_count": null,
      "outputs": [
        {
          "output_type": "stream",
          "text": [
            "2020-06-26 03:35:58.876335: I tensorflow/stream_executor/platform/default/dso_loader.cc:44] Successfully opened dynamic library libcudart.so.10.1\n",
            "Namespace(config_override=None, local_rank=None, opts=['config=projects/hateful_memes/configs/visual_bert/from_coco.yaml', 'model=visual_bert', 'dataset=hateful_memes', 'checkpoint.resume_pretrained=True', 'checkpoint.resume_file=/content/save/models/model_2000.ckpt'])\n",
            "/usr/local/lib/python3.6/dist-packages/omegaconf/dictconfig.py:252: UserWarning: Keys with dot (model.bert) are deprecated and will have different semantic meaning the next major version of OmegaConf (2.1)\n",
            "See the compact keys issue for more details: https://github.com/omry/omegaconf/issues/152\n",
            "You can disable this warning by setting the environment variable OC_DISABLE_DOT_ACCESS_WARNING=1\n",
            "  warnings.warn(message=msg, category=UserWarning)\n",
            "Overriding option config to projects/hateful_memes/configs/visual_bert/from_coco.yaml\n",
            "Overriding option model to visual_bert\n",
            "Overriding option datasets to hateful_memes\n",
            "Overriding option checkpoint.resume_pretrained to True\n",
            "Overriding option checkpoint.resume_file to /content/save/models/model_2000.ckpt\n",
            "Using seed 4309720\n",
            "Logging to: ./save/logs/train_2020-06-26T03:36:04.log\n",
            "Process Process-3:\n",
            "Traceback (most recent call last):\n",
            "  File \"/usr/lib/python3.6/multiprocessing/process.py\", line 261, in _bootstrap\n",
            "    util._exit_function()\n",
            "  File \"/usr/lib/python3.6/multiprocessing/util.py\", line 296, in _exit_function\n",
            "    _run_finalizers(0)\n",
            "  File \"/usr/lib/python3.6/multiprocessing/util.py\", line 262, in _run_finalizers\n",
            "    finalizer()\n",
            "  File \"/usr/lib/python3.6/multiprocessing/util.py\", line 186, in __call__\n",
            "    res = self._callback(*self._args, **self._kwargs)\n",
            "KeyboardInterrupt\n"
          ],
          "name": "stdout"
        }
      ]
    },
    {
      "cell_type": "code",
      "metadata": {
        "id": "7CH8u0saEdhU"
      },
      "source": [
        ""
      ],
      "execution_count": null,
      "outputs": []
    },
    {
      "cell_type": "code",
      "metadata": {
        "id": "GcxmVhiLjmiO",
        "outputId": "daa7bc1f-86f3-4b87-bd27-b3d65b028072",
        "colab": {
          "base_uri": "https://localhost:8080/",
          "height": 34
        }
      },
      "source": [
        "!ls /root/.cache/torch/mmf/"
      ],
      "execution_count": null,
      "outputs": [
        {
          "output_type": "stream",
          "text": [
            "data  distributed_-1\n"
          ],
          "name": "stdout"
        }
      ]
    },
    {
      "cell_type": "code",
      "metadata": {
        "id": "pDESUZ9apS9m",
        "outputId": "364eaf5a-f7d8-44a9-fcd8-77333855b086",
        "colab": {
          "base_uri": "https://localhost:8080/",
          "height": 67
        }
      },
      "source": [
        "!zip -r '/root/.cache/torch.zip' '/content/hello.zip'"
      ],
      "execution_count": null,
      "outputs": [
        {
          "output_type": "stream",
          "text": [
            "\tzip warning: name not matched: /content/hello.zip\n",
            "\n",
            "zip error: Nothing to do! (try: zip -r /root/.cache/torch.zip . -i /content/hello.zip)\n"
          ],
          "name": "stdout"
        }
      ]
    },
    {
      "cell_type": "code",
      "metadata": {
        "id": "wfC9xa9oshBe",
        "outputId": "368ce394-f3b4-404a-e725-451da1fd6dea",
        "colab": {
          "base_uri": "https://localhost:8080/",
          "height": 34
        }
      },
      "source": [
        "from google.colab import files\n",
        "files.download('/root/.cache/torch/') "
      ],
      "execution_count": null,
      "outputs": [
        {
          "output_type": "display_data",
          "data": {
            "application/javascript": [
              "\n",
              "    async function download(id, filename, size) {\n",
              "      if (!google.colab.kernel.accessAllowed) {\n",
              "        return;\n",
              "      }\n",
              "      const div = document.createElement('div');\n",
              "      const label = document.createElement('label');\n",
              "      label.textContent = `Downloading \"${filename}\": `;\n",
              "      div.appendChild(label);\n",
              "      const progress = document.createElement('progress');\n",
              "      progress.max = size;\n",
              "      div.appendChild(progress);\n",
              "      document.body.appendChild(div);\n",
              "\n",
              "      const buffers = [];\n",
              "      let downloaded = 0;\n",
              "\n",
              "      const channel = await google.colab.kernel.comms.open(id);\n",
              "      // Send a message to notify the kernel that we're ready.\n",
              "      channel.send({})\n",
              "\n",
              "      for await (const message of channel.messages) {\n",
              "        // Send a message to notify the kernel that we're ready.\n",
              "        channel.send({})\n",
              "        if (message.buffers) {\n",
              "          for (const buffer of message.buffers) {\n",
              "            buffers.push(buffer);\n",
              "            downloaded += buffer.byteLength;\n",
              "            progress.value = downloaded;\n",
              "          }\n",
              "        }\n",
              "      }\n",
              "      const blob = new Blob(buffers, {type: 'application/binary'});\n",
              "      const a = document.createElement('a');\n",
              "      a.href = window.URL.createObjectURL(blob);\n",
              "      a.download = filename;\n",
              "      div.appendChild(a);\n",
              "      a.click();\n",
              "      div.remove();\n",
              "    }\n",
              "  "
            ],
            "text/plain": [
              "<IPython.core.display.Javascript object>"
            ]
          },
          "metadata": {
            "tags": []
          }
        },
        {
          "output_type": "display_data",
          "data": {
            "application/javascript": [
              "download(\"download_1f9a7626-ef5e-48e3-a7d7-9493cf8bd816\", \"\", 4096)"
            ],
            "text/plain": [
              "<IPython.core.display.Javascript object>"
            ]
          },
          "metadata": {
            "tags": []
          }
        }
      ]
    },
    {
      "cell_type": "code",
      "metadata": {
        "id": "ut0s2RJwppqY",
        "outputId": "f03653a3-fa5c-4b17-eb54-be8e340f857b",
        "colab": {
          "base_uri": "https://localhost:8080/",
          "height": 289
        }
      },
      "source": [
        "!mmf_predict config=projects/hateful_memes/configs/visual_bert/from_coco.yaml \\\n",
        "    model=visual_bert \\\n",
        "    dataset=hateful_memes \\\n",
        "    run_type=test"
      ],
      "execution_count": null,
      "outputs": [
        {
          "output_type": "stream",
          "text": [
            "2020-06-25 09:37:37.204637: I tensorflow/stream_executor/platform/default/dso_loader.cc:44] Successfully opened dynamic library libcudart.so.10.1\n",
            "Namespace(config_override=None, local_rank=None, opts=['config=projects/hateful_memes/configs/visual_bert/from_coco.yaml', 'model=visual_bert', 'dataset=hateful_memes', 'run_type=test', 'evaluation.predict=true'])\n",
            "/usr/local/lib/python3.6/dist-packages/omegaconf/dictconfig.py:252: UserWarning: Keys with dot (model.bert) are deprecated and will have different semantic meaning the next major version of OmegaConf (2.1)\n",
            "See the compact keys issue for more details: https://github.com/omry/omegaconf/issues/152\n",
            "You can disable this warning by setting the environment variable OC_DISABLE_DOT_ACCESS_WARNING=1\n",
            "  warnings.warn(message=msg, category=UserWarning)\n",
            "Overriding option config to projects/hateful_memes/configs/visual_bert/from_coco.yaml\n",
            "Overriding option model to visual_bert\n",
            "Overriding option datasets to hateful_memes\n",
            "Overriding option run_type to test\n",
            "Overriding option evaluation.predict to true\n",
            "Using seed 42223663\n",
            "Logging to: ./save/logs/train_2020-06-25T09:37:42.log\n",
            "Downloading visual_bert.pretrained.coco_train_val.tar.gz: 100% 415M/415M [00:36<00:00, 11.3MB/s]\n",
            "100% 16/16 [02:50<00:00, 10.68s/it]\n"
          ],
          "name": "stdout"
        }
      ]
    },
    {
      "cell_type": "code",
      "metadata": {
        "id": "-2aqyQbHqMIt",
        "outputId": "a91901e1-093a-4aa5-babe-f9ccea3b9573",
        "colab": {
          "base_uri": "https://localhost:8080/",
          "height": 272
        }
      },
      "source": [
        "!mmf_run config=projects/hateful_memes/configs/visual_bert/from_coco.yaml \\\n",
        "    model=visual_bert \\\n",
        "    dataset=hateful_memes \\\n",
        "    run_type=val \\\n",
        "    checkpoint.resume_file=./save/visual_bert_final.pth"
      ],
      "execution_count": null,
      "outputs": [
        {
          "output_type": "stream",
          "text": [
            "2020-06-25 09:54:47.011639: I tensorflow/stream_executor/platform/default/dso_loader.cc:44] Successfully opened dynamic library libcudart.so.10.1\n",
            "Namespace(config_override=None, local_rank=None, opts=['config=projects/hateful_memes/configs/visual_bert/from_coco.yaml', 'model=visual_bert', 'dataset=hateful_memes', 'run_type=val', 'checkpoint.resume_file=./save/visual_bert_final.pth'])\n",
            "/usr/local/lib/python3.6/dist-packages/omegaconf/dictconfig.py:252: UserWarning: Keys with dot (model.bert) are deprecated and will have different semantic meaning the next major version of OmegaConf (2.1)\n",
            "See the compact keys issue for more details: https://github.com/omry/omegaconf/issues/152\n",
            "You can disable this warning by setting the environment variable OC_DISABLE_DOT_ACCESS_WARNING=1\n",
            "  warnings.warn(message=msg, category=UserWarning)\n",
            "Overriding option config to projects/hateful_memes/configs/visual_bert/from_coco.yaml\n",
            "Overriding option model to visual_bert\n",
            "Overriding option datasets to hateful_memes\n",
            "Overriding option run_type to val\n",
            "Overriding option checkpoint.resume_file to ./save/visual_bert_final.pth\n",
            "Using seed 49943305\n",
            "Logging to: ./save/logs/train_2020-06-25T09:54:49.log\n",
            "8it [01:30, 11.26s/it]\n"
          ],
          "name": "stdout"
        }
      ]
    },
    {
      "cell_type": "code",
      "metadata": {
        "id": "XkPGyouRt7od",
        "outputId": "aca9245c-9387-4f49-f4e8-152ea0c25217",
        "colab": {
          "base_uri": "https://localhost:8080/",
          "height": 289
        }
      },
      "source": [
        "!mmf_predict config=projects/hateful_memes/configs/visual_bert/from_coco.yaml \\\n",
        "    model=visual_bert \\\n",
        "    dataset=hateful_memes \\\n",
        "    run_type=test checkpoint.resume_zoo=visual_bert.finetuned.hateful_memes.from_coco"
      ],
      "execution_count": null,
      "outputs": [
        {
          "output_type": "stream",
          "text": [
            "2020-06-25 09:57:43.177456: I tensorflow/stream_executor/platform/default/dso_loader.cc:44] Successfully opened dynamic library libcudart.so.10.1\n",
            "Namespace(config_override=None, local_rank=None, opts=['config=projects/hateful_memes/configs/visual_bert/from_coco.yaml', 'model=visual_bert', 'dataset=hateful_memes', 'run_type=test', 'checkpoint.resume_zoo=visual_bert.finetuned.hateful_memes.from_coco', 'evaluation.predict=true'])\n",
            "/usr/local/lib/python3.6/dist-packages/omegaconf/dictconfig.py:252: UserWarning: Keys with dot (model.bert) are deprecated and will have different semantic meaning the next major version of OmegaConf (2.1)\n",
            "See the compact keys issue for more details: https://github.com/omry/omegaconf/issues/152\n",
            "You can disable this warning by setting the environment variable OC_DISABLE_DOT_ACCESS_WARNING=1\n",
            "  warnings.warn(message=msg, category=UserWarning)\n",
            "Overriding option config to projects/hateful_memes/configs/visual_bert/from_coco.yaml\n",
            "Overriding option model to visual_bert\n",
            "Overriding option datasets to hateful_memes\n",
            "Overriding option run_type to test\n",
            "Overriding option checkpoint.resume_zoo to visual_bert.finetuned.hateful_memes.from_coco\n",
            "Overriding option evaluation.predict to true\n",
            "Using seed 46251236\n",
            "Logging to: ./save/logs/train_2020-06-25T09:57:46.log\n",
            "100% 16/16 [02:52<00:00, 10.79s/it]\n"
          ],
          "name": "stdout"
        }
      ]
    },
    {
      "cell_type": "code",
      "metadata": {
        "id": "dBhNU_SIt7i7"
      },
      "source": [
        ""
      ],
      "execution_count": null,
      "outputs": []
    },
    {
      "cell_type": "code",
      "metadata": {
        "id": "ITgfbmIG7SyN"
      },
      "source": [
        ""
      ],
      "execution_count": null,
      "outputs": []
    },
    {
      "cell_type": "code",
      "metadata": {
        "id": "JprakbdZ7S08"
      },
      "source": [
        "import pandas as pd"
      ],
      "execution_count": null,
      "outputs": []
    },
    {
      "cell_type": "code",
      "metadata": {
        "id": "0SJwPbhw7S4o"
      },
      "source": [
        "a= pd.read_json('/content/drive/My Drive/eggplant/data/data_with_img/deeface_v1_csvtojsonl_mmf/deeface_trainingset_v1.jsonl',lines=True)"
      ],
      "execution_count": null,
      "outputs": []
    },
    {
      "cell_type": "code",
      "metadata": {
        "id": "LWRubQmO7nNw",
        "outputId": "037fcf5b-c948-4686-9bf6-5c139db4f894",
        "colab": {
          "base_uri": "https://localhost:8080/",
          "height": 402
        }
      },
      "source": [
        "a"
      ],
      "execution_count": null,
      "outputs": [
        {
          "output_type": "execute_result",
          "data": {
            "text/html": [
              "<div>\n",
              "<style scoped>\n",
              "    .dataframe tbody tr th:only-of-type {\n",
              "        vertical-align: middle;\n",
              "    }\n",
              "\n",
              "    .dataframe tbody tr th {\n",
              "        vertical-align: top;\n",
              "    }\n",
              "\n",
              "    .dataframe thead th {\n",
              "        text-align: right;\n",
              "    }\n",
              "</style>\n",
              "<table border=\"1\" class=\"dataframe\">\n",
              "  <thead>\n",
              "    <tr style=\"text-align: right;\">\n",
              "      <th></th>\n",
              "      <th>id</th>\n",
              "      <th>img</th>\n",
              "      <th>label</th>\n",
              "      <th>text</th>\n",
              "    </tr>\n",
              "  </thead>\n",
              "  <tbody>\n",
              "    <tr>\n",
              "      <th>0</th>\n",
              "      <td>5917</td>\n",
              "      <td>img/05917.png</td>\n",
              "      <td>1</td>\n",
              "      <td>the image contains chair and the data is steph...</td>\n",
              "    </tr>\n",
              "    <tr>\n",
              "      <th>1</th>\n",
              "      <td>86250</td>\n",
              "      <td>img/86250.png</td>\n",
              "      <td>1</td>\n",
              "      <td>the image contains  a white fear Man and the d...</td>\n",
              "    </tr>\n",
              "    <tr>\n",
              "      <th>2</th>\n",
              "      <td>56872</td>\n",
              "      <td>img/56872.png</td>\n",
              "      <td>0</td>\n",
              "      <td>the image contains oven cat and the data is so...</td>\n",
              "    </tr>\n",
              "    <tr>\n",
              "      <th>3</th>\n",
              "      <td>13924</td>\n",
              "      <td>img/13924.png</td>\n",
              "      <td>0</td>\n",
              "      <td>the image contains couch a middle eastern sad ...</td>\n",
              "    </tr>\n",
              "    <tr>\n",
              "      <th>4</th>\n",
              "      <td>16537</td>\n",
              "      <td>img/16537.png</td>\n",
              "      <td>0</td>\n",
              "      <td>the image contains  a asian surprise Man and t...</td>\n",
              "    </tr>\n",
              "    <tr>\n",
              "      <th>...</th>\n",
              "      <td>...</td>\n",
              "      <td>...</td>\n",
              "      <td>...</td>\n",
              "      <td>...</td>\n",
              "    </tr>\n",
              "    <tr>\n",
              "      <th>10825</th>\n",
              "      <td>71320</td>\n",
              "      <td>img/71320.png</td>\n",
              "      <td>1</td>\n",
              "      <td>the image contains tie a middle eastern neutra...</td>\n",
              "    </tr>\n",
              "    <tr>\n",
              "      <th>10826</th>\n",
              "      <td>76458</td>\n",
              "      <td>img/76458.png</td>\n",
              "      <td>0</td>\n",
              "      <td>the image contains  a middle eastern sad Man a...</td>\n",
              "    </tr>\n",
              "    <tr>\n",
              "      <th>10827</th>\n",
              "      <td>17205</td>\n",
              "      <td>img/17205.png</td>\n",
              "      <td>1</td>\n",
              "      <td>the image contains  a white happy Man and the ...</td>\n",
              "    </tr>\n",
              "    <tr>\n",
              "      <th>10828</th>\n",
              "      <td>89423</td>\n",
              "      <td>img/89423.png</td>\n",
              "      <td>1</td>\n",
              "      <td>the image contains  a white happy Man and the ...</td>\n",
              "    </tr>\n",
              "    <tr>\n",
              "      <th>10829</th>\n",
              "      <td>5264</td>\n",
              "      <td>img/05264.png</td>\n",
              "      <td>1</td>\n",
              "      <td>the image contains elephant sheep horse and th...</td>\n",
              "    </tr>\n",
              "  </tbody>\n",
              "</table>\n",
              "<p>10830 rows × 4 columns</p>\n",
              "</div>"
            ],
            "text/plain": [
              "          id  ...                                               text\n",
              "0       5917  ...  the image contains chair and the data is steph...\n",
              "1      86250  ...  the image contains  a white fear Man and the d...\n",
              "2      56872  ...  the image contains oven cat and the data is so...\n",
              "3      13924  ...  the image contains couch a middle eastern sad ...\n",
              "4      16537  ...  the image contains  a asian surprise Man and t...\n",
              "...      ...  ...                                                ...\n",
              "10825  71320  ...  the image contains tie a middle eastern neutra...\n",
              "10826  76458  ...  the image contains  a middle eastern sad Man a...\n",
              "10827  17205  ...  the image contains  a white happy Man and the ...\n",
              "10828  89423  ...  the image contains  a white happy Man and the ...\n",
              "10829   5264  ...  the image contains elephant sheep horse and th...\n",
              "\n",
              "[10830 rows x 4 columns]"
            ]
          },
          "metadata": {
            "tags": []
          },
          "execution_count": 24
        }
      ]
    },
    {
      "cell_type": "code",
      "metadata": {
        "id": "bPSGFMAll7M_",
        "outputId": "67462e8c-03fd-4d8e-bd07-4e9ac197d0d0",
        "colab": {
          "base_uri": "https://localhost:8080/",
          "height": 34
        }
      },
      "source": [
        "import collections\n",
        "a = a['label'].values\n",
        "collections.Counter(a)"
      ],
      "execution_count": null,
      "outputs": [
        {
          "output_type": "execute_result",
          "data": {
            "text/plain": [
              "Counter({0: 5391, 1: 5439})"
            ]
          },
          "metadata": {
            "tags": []
          },
          "execution_count": 7
        }
      ]
    },
    {
      "cell_type": "code",
      "metadata": {
        "id": "DISD77aTnH_Z"
      },
      "source": [
        "w=a['lab']"
      ],
      "execution_count": null,
      "outputs": []
    },
    {
      "cell_type": "code",
      "metadata": {
        "id": "JwsxuVH57o07"
      },
      "source": [
        "q=a['id'].values"
      ],
      "execution_count": null,
      "outputs": []
    },
    {
      "cell_type": "code",
      "metadata": {
        "id": "HtVedWNF7rpi",
        "outputId": "53b3ff8b-b8f8-4867-9de7-69f6d5c2352d",
        "colab": {
          "base_uri": "https://localhost:8080/",
          "height": 34
        }
      },
      "source": [
        "q"
      ],
      "execution_count": null,
      "outputs": [
        {
          "output_type": "execute_result",
          "data": {
            "text/plain": [
              "array([ 5917, 86250, 56872, ..., 17205, 89423,  5264])"
            ]
          },
          "metadata": {
            "tags": []
          },
          "execution_count": 26
        }
      ]
    },
    {
      "cell_type": "code",
      "metadata": {
        "id": "czZTQ6uC7skt",
        "outputId": "c0ddad4e-8330-4896-83c7-8242d3e84fdd",
        "colab": {
          "base_uri": "https://localhost:8080/",
          "height": 34
        }
      },
      "source": [
        "len(q)"
      ],
      "execution_count": null,
      "outputs": [
        {
          "output_type": "execute_result",
          "data": {
            "text/plain": [
              "10830"
            ]
          },
          "metadata": {
            "tags": []
          },
          "execution_count": 27
        }
      ]
    },
    {
      "cell_type": "code",
      "metadata": {
        "id": "v_2q12_c7wgV",
        "outputId": "43085cb8-7f5f-4165-956b-5ba82a320158",
        "colab": {
          "base_uri": "https://localhost:8080/",
          "height": 34
        }
      },
      "source": [
        "len(set(q))"
      ],
      "execution_count": null,
      "outputs": [
        {
          "output_type": "execute_result",
          "data": {
            "text/plain": [
              "8643"
            ]
          },
          "metadata": {
            "tags": []
          },
          "execution_count": 28
        }
      ]
    },
    {
      "cell_type": "code",
      "metadata": {
        "id": "bzf0bGQs7yR9"
      },
      "source": [
        "c=pd.read_json('/content/drive/My Drive/eggplant/data/data_with_img/deeface_v1_csvtojsonl_mmf/deeface_valset_v1.jsonl',lines=True)"
      ],
      "execution_count": null,
      "outputs": []
    },
    {
      "cell_type": "code",
      "metadata": {
        "id": "BJfFGxvR8ULt"
      },
      "source": [
        "z=c['id'].values"
      ],
      "execution_count": null,
      "outputs": []
    },
    {
      "cell_type": "code",
      "metadata": {
        "id": "iS8pj1U98dTq"
      },
      "source": [
        "cnt=0\n",
        "for i in z:\n",
        "  if i in q:\n",
        "    cnt=cnt+1"
      ],
      "execution_count": null,
      "outputs": []
    },
    {
      "cell_type": "code",
      "metadata": {
        "id": "yKrDQgf08lby",
        "outputId": "e7aaec19-284b-4bd6-9092-64e3f67d7464",
        "colab": {
          "base_uri": "https://localhost:8080/",
          "height": 34
        }
      },
      "source": [
        "cnt"
      ],
      "execution_count": null,
      "outputs": [
        {
          "output_type": "execute_result",
          "data": {
            "text/plain": [
              "209"
            ]
          },
          "metadata": {
            "tags": []
          },
          "execution_count": 17
        }
      ]
    },
    {
      "cell_type": "code",
      "metadata": {
        "id": "Z8L1vgsC8mSh",
        "outputId": "55a6395d-1788-4c45-a2fd-7fb81634c472",
        "colab": {
          "base_uri": "https://localhost:8080/",
          "height": 34
        }
      },
      "source": [
        "len(z)"
      ],
      "execution_count": null,
      "outputs": [
        {
          "output_type": "execute_result",
          "data": {
            "text/plain": [
              "570"
            ]
          },
          "metadata": {
            "tags": []
          },
          "execution_count": 20
        }
      ]
    },
    {
      "cell_type": "code",
      "metadata": {
        "id": "nOrstEyemiRc",
        "outputId": "b5bca352-1ff0-4ef5-c873-a9af0bbab52b",
        "colab": {
          "base_uri": "https://localhost:8080/",
          "height": 34
        }
      },
      "source": [
        "len(set(z))"
      ],
      "execution_count": null,
      "outputs": [
        {
          "output_type": "execute_result",
          "data": {
            "text/plain": [
              "566"
            ]
          },
          "metadata": {
            "tags": []
          },
          "execution_count": 22
        }
      ]
    },
    {
      "cell_type": "code",
      "metadata": {
        "id": "e34OBUE3mmp0"
      },
      "source": [
        ""
      ],
      "execution_count": null,
      "outputs": []
    }
  ]
}